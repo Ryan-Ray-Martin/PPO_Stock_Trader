{
 "metadata": {
  "language_info": {
   "codemirror_mode": {
    "name": "ipython",
    "version": 3
   },
   "file_extension": ".py",
   "mimetype": "text/x-python",
   "name": "python",
   "nbconvert_exporter": "python",
   "pygments_lexer": "ipython3",
   "version": "3.7.3-final"
  },
  "orig_nbformat": 2,
  "kernelspec": {
   "name": "python3",
   "display_name": "Python 3.7.3 64-bit ('base': conda)",
   "metadata": {
    "interpreter": {
     "hash": "78c62bd594015071fc94ec09f8f0c8693d5df646d29fd961f83262230d581249"
    }
   }
  }
 },
 "nbformat": 4,
 "nbformat_minor": 2,
 "cells": [
  {
   "cell_type": "code",
   "execution_count": 1,
   "metadata": {},
   "outputs": [
    {
     "output_type": "stream",
     "name": "stdout",
     "text": [
      "Requirement already satisfied: pandas_market_calendars in /Users/user/anaconda3/lib/python3.7/site-packages (1.6.1)\n",
      "Requirement already satisfied: trading-calendars in /Users/user/anaconda3/lib/python3.7/site-packages (from pandas_market_calendars) (2.1.0)\n",
      "Requirement already satisfied: pytz in /Users/user/anaconda3/lib/python3.7/site-packages (from pandas_market_calendars) (2020.4)\n",
      "Requirement already satisfied: pandas>=0.18 in /Users/user/anaconda3/lib/python3.7/site-packages (from pandas_market_calendars) (1.1.4)\n",
      "Requirement already satisfied: python-dateutil in /Users/user/anaconda3/lib/python3.7/site-packages (from pandas_market_calendars) (2.8.1)\n",
      "Requirement already satisfied: numpy>=1.15.4 in /Users/user/anaconda3/lib/python3.7/site-packages (from pandas>=0.18->pandas_market_calendars) (1.18.5)\n",
      "Requirement already satisfied: six>=1.5 in /Users/user/anaconda3/lib/python3.7/site-packages (from python-dateutil->pandas_market_calendars) (1.15.0)\n",
      "Requirement already satisfied: toolz in /Users/user/anaconda3/lib/python3.7/site-packages (from trading-calendars->pandas_market_calendars) (0.9.0)\n"
     ]
    }
   ],
   "source": [
    "import requests\n",
    "import os\n",
    "os.environ[\"MODIN_ENGINE\"] = \"ray\"  # Modin will use Ray\n",
    "import pandas as pd\n",
    "import matplotlib.pyplot as plt\n",
    "!pip install pandas_market_calendars\n",
    "import requests\n",
    "from datetime import datetime as dt\n",
    "import pandas_market_calendars as mcal\n",
    "from datetime import datetime as dt"
   ]
  },
  {
   "cell_type": "code",
   "execution_count": 2,
   "metadata": {},
   "outputs": [],
   "source": [
    "# Create a calendar\n",
    "nyse = mcal.get_calendar('NYSE')"
   ]
  },
  {
   "cell_type": "code",
   "execution_count": 28,
   "metadata": {},
   "outputs": [],
   "source": [
    "timespan = nyse.schedule(start_date='2020-09-15', end_date='2021-03-15')"
   ]
  },
  {
   "cell_type": "code",
   "execution_count": 29,
   "metadata": {},
   "outputs": [
    {
     "output_type": "execute_result",
     "data": {
      "text/plain": [
       "                         market_open              market_close\n",
       "2020-09-15 2020-09-15 13:30:00+00:00 2020-09-15 20:00:00+00:00\n",
       "2020-09-16 2020-09-16 13:30:00+00:00 2020-09-16 20:00:00+00:00\n",
       "2020-09-17 2020-09-17 13:30:00+00:00 2020-09-17 20:00:00+00:00\n",
       "2020-09-18 2020-09-18 13:30:00+00:00 2020-09-18 20:00:00+00:00\n",
       "2020-09-21 2020-09-21 13:30:00+00:00 2020-09-21 20:00:00+00:00"
      ],
      "text/html": "<div>\n<style scoped>\n    .dataframe tbody tr th:only-of-type {\n        vertical-align: middle;\n    }\n\n    .dataframe tbody tr th {\n        vertical-align: top;\n    }\n\n    .dataframe thead th {\n        text-align: right;\n    }\n</style>\n<table border=\"1\" class=\"dataframe\">\n  <thead>\n    <tr style=\"text-align: right;\">\n      <th></th>\n      <th>market_open</th>\n      <th>market_close</th>\n    </tr>\n  </thead>\n  <tbody>\n    <tr>\n      <th>2020-09-15</th>\n      <td>2020-09-15 13:30:00+00:00</td>\n      <td>2020-09-15 20:00:00+00:00</td>\n    </tr>\n    <tr>\n      <th>2020-09-16</th>\n      <td>2020-09-16 13:30:00+00:00</td>\n      <td>2020-09-16 20:00:00+00:00</td>\n    </tr>\n    <tr>\n      <th>2020-09-17</th>\n      <td>2020-09-17 13:30:00+00:00</td>\n      <td>2020-09-17 20:00:00+00:00</td>\n    </tr>\n    <tr>\n      <th>2020-09-18</th>\n      <td>2020-09-18 13:30:00+00:00</td>\n      <td>2020-09-18 20:00:00+00:00</td>\n    </tr>\n    <tr>\n      <th>2020-09-21</th>\n      <td>2020-09-21 13:30:00+00:00</td>\n      <td>2020-09-21 20:00:00+00:00</td>\n    </tr>\n  </tbody>\n</table>\n</div>"
     },
     "metadata": {},
     "execution_count": 29
    }
   ],
   "source": [
    "timespan.head()"
   ]
  },
  {
   "cell_type": "code",
   "execution_count": 30,
   "metadata": {},
   "outputs": [],
   "source": [
    "times = list(timespan.index.values)"
   ]
  },
  {
   "cell_type": "code",
   "execution_count": 31,
   "metadata": {},
   "outputs": [],
   "source": [
    "dates = []\n",
    "for date in range(len(times)):\n",
    "    ts = pd.to_datetime(str(times[date]))\n",
    "    d = ts.strftime('%Y-%m-%d')\n",
    "    dates.append(d)"
   ]
  },
  {
   "cell_type": "code",
   "execution_count": 32,
   "metadata": {},
   "outputs": [
    {
     "output_type": "execute_result",
     "data": {
      "text/plain": [
       "['2020-09-15',\n",
       " '2020-09-16',\n",
       " '2020-09-17',\n",
       " '2020-09-18',\n",
       " '2020-09-21',\n",
       " '2020-09-22',\n",
       " '2020-09-23',\n",
       " '2020-09-24',\n",
       " '2020-09-25',\n",
       " '2020-09-28',\n",
       " '2020-09-29',\n",
       " '2020-09-30',\n",
       " '2020-10-01',\n",
       " '2020-10-02',\n",
       " '2020-10-05',\n",
       " '2020-10-06',\n",
       " '2020-10-07',\n",
       " '2020-10-08',\n",
       " '2020-10-09',\n",
       " '2020-10-12',\n",
       " '2020-10-13',\n",
       " '2020-10-14',\n",
       " '2020-10-15',\n",
       " '2020-10-16',\n",
       " '2020-10-19',\n",
       " '2020-10-20',\n",
       " '2020-10-21',\n",
       " '2020-10-22',\n",
       " '2020-10-23',\n",
       " '2020-10-26',\n",
       " '2020-10-27',\n",
       " '2020-10-28',\n",
       " '2020-10-29',\n",
       " '2020-10-30',\n",
       " '2020-11-02',\n",
       " '2020-11-03',\n",
       " '2020-11-04',\n",
       " '2020-11-05',\n",
       " '2020-11-06',\n",
       " '2020-11-09',\n",
       " '2020-11-10',\n",
       " '2020-11-11',\n",
       " '2020-11-12',\n",
       " '2020-11-13',\n",
       " '2020-11-16',\n",
       " '2020-11-17',\n",
       " '2020-11-18',\n",
       " '2020-11-19',\n",
       " '2020-11-20',\n",
       " '2020-11-23',\n",
       " '2020-11-24',\n",
       " '2020-11-25',\n",
       " '2020-11-27',\n",
       " '2020-11-30',\n",
       " '2020-12-01',\n",
       " '2020-12-02',\n",
       " '2020-12-03',\n",
       " '2020-12-04',\n",
       " '2020-12-07',\n",
       " '2020-12-08',\n",
       " '2020-12-09',\n",
       " '2020-12-10',\n",
       " '2020-12-11',\n",
       " '2020-12-14',\n",
       " '2020-12-15',\n",
       " '2020-12-16',\n",
       " '2020-12-17',\n",
       " '2020-12-18',\n",
       " '2020-12-21',\n",
       " '2020-12-22',\n",
       " '2020-12-23',\n",
       " '2020-12-24',\n",
       " '2020-12-28',\n",
       " '2020-12-29',\n",
       " '2020-12-30',\n",
       " '2020-12-31',\n",
       " '2021-01-04',\n",
       " '2021-01-05',\n",
       " '2021-01-06',\n",
       " '2021-01-07',\n",
       " '2021-01-08',\n",
       " '2021-01-11',\n",
       " '2021-01-12',\n",
       " '2021-01-13',\n",
       " '2021-01-14',\n",
       " '2021-01-15',\n",
       " '2021-01-19',\n",
       " '2021-01-20',\n",
       " '2021-01-21',\n",
       " '2021-01-22',\n",
       " '2021-01-25',\n",
       " '2021-01-26',\n",
       " '2021-01-27',\n",
       " '2021-01-28',\n",
       " '2021-01-29',\n",
       " '2021-02-01',\n",
       " '2021-02-02',\n",
       " '2021-02-03',\n",
       " '2021-02-04',\n",
       " '2021-02-05',\n",
       " '2021-02-08',\n",
       " '2021-02-09',\n",
       " '2021-02-10',\n",
       " '2021-02-11',\n",
       " '2021-02-12',\n",
       " '2021-02-16',\n",
       " '2021-02-17',\n",
       " '2021-02-18',\n",
       " '2021-02-19',\n",
       " '2021-02-22',\n",
       " '2021-02-23',\n",
       " '2021-02-24',\n",
       " '2021-02-25',\n",
       " '2021-02-26',\n",
       " '2021-03-01',\n",
       " '2021-03-02',\n",
       " '2021-03-03',\n",
       " '2021-03-04',\n",
       " '2021-03-05',\n",
       " '2021-03-08',\n",
       " '2021-03-09',\n",
       " '2021-03-10',\n",
       " '2021-03-11',\n",
       " '2021-03-12',\n",
       " '2021-03-15']"
      ]
     },
     "metadata": {},
     "execution_count": 32
    }
   ],
   "source": [
    "dates"
   ]
  },
  {
   "cell_type": "code",
   "execution_count": 39,
   "metadata": {},
   "outputs": [],
   "source": [
    "ticker = 'RIOT'\n",
    "range_agg = '/range/1/minute/'\n",
    "unadjusted = 'unadjusted=true'\n",
    "sort = '&sort=asc'\n",
    "limit = '&limit=50000'\n",
    "POLYGON_URL = 'https://api.polygon.io/v2/aggs/ticker/'"
   ]
  },
  {
   "cell_type": "code",
   "execution_count": 40,
   "metadata": {
    "tags": []
   },
   "outputs": [],
   "source": [
    "import data_config\n",
    "datetime = []\n",
    "open_price = []\n",
    "high_price = []\n",
    "low_price = []\n",
    "close_price = []\n",
    "volume = []\n",
    "for date in dates:\n",
    "    polygon = POLYGON_URL + ticker + range_agg + date + '/' + date + '?' + unadjusted + sort + limit + data_config.POLYGON_API_KEY\n",
    "    r_polygon = requests.get(polygon)\n",
    "    polygon_response = r_polygon.json()\n",
    "    for aggs in range(len(polygon_response['results'])):\n",
    "        datetime.append(polygon_response['results'][aggs]['t'])\n",
    "        open_price.append(polygon_response['results'][aggs]['o'])\n",
    "        high_price.append(polygon_response['results'][aggs]['h'])\n",
    "        low_price.append(polygon_response['results'][aggs]['l'])\n",
    "        close_price.append(polygon_response['results'][aggs]['c'])\n",
    "        volume.append(polygon_response['results'][aggs]['v'])"
   ]
  },
  {
   "cell_type": "code",
   "execution_count": 41,
   "metadata": {},
   "outputs": [],
   "source": [
    "df_ticks = pd.DataFrame(list(zip(datetime,open_price,high_price,low_price, close_price,volume)),\n",
    "columns =['datetime', 'open', 'high', 'low', 'close', 'volume'])"
   ]
  },
  {
   "cell_type": "code",
   "execution_count": 42,
   "metadata": {},
   "outputs": [
    {
     "output_type": "execute_result",
     "data": {
      "text/plain": [
       "        datetime  open  high   low  close  volume\n",
       "0  1600167420000  3.07  3.07  3.07   3.07   150.0\n",
       "1  1600167480000  3.07  3.07  3.07   3.07   350.0\n",
       "2  1600169940000  3.09  3.09  3.07   3.07  4000.0\n",
       "3  1600170360000  3.11  3.11  3.11   3.11   400.0\n",
       "4  1600170660000  3.11  3.11  3.11   3.11   100.0"
      ],
      "text/html": "<div>\n<style scoped>\n    .dataframe tbody tr th:only-of-type {\n        vertical-align: middle;\n    }\n\n    .dataframe tbody tr th {\n        vertical-align: top;\n    }\n\n    .dataframe thead th {\n        text-align: right;\n    }\n</style>\n<table border=\"1\" class=\"dataframe\">\n  <thead>\n    <tr style=\"text-align: right;\">\n      <th></th>\n      <th>datetime</th>\n      <th>open</th>\n      <th>high</th>\n      <th>low</th>\n      <th>close</th>\n      <th>volume</th>\n    </tr>\n  </thead>\n  <tbody>\n    <tr>\n      <th>0</th>\n      <td>1600167420000</td>\n      <td>3.07</td>\n      <td>3.07</td>\n      <td>3.07</td>\n      <td>3.07</td>\n      <td>150.0</td>\n    </tr>\n    <tr>\n      <th>1</th>\n      <td>1600167480000</td>\n      <td>3.07</td>\n      <td>3.07</td>\n      <td>3.07</td>\n      <td>3.07</td>\n      <td>350.0</td>\n    </tr>\n    <tr>\n      <th>2</th>\n      <td>1600169940000</td>\n      <td>3.09</td>\n      <td>3.09</td>\n      <td>3.07</td>\n      <td>3.07</td>\n      <td>4000.0</td>\n    </tr>\n    <tr>\n      <th>3</th>\n      <td>1600170360000</td>\n      <td>3.11</td>\n      <td>3.11</td>\n      <td>3.11</td>\n      <td>3.11</td>\n      <td>400.0</td>\n    </tr>\n    <tr>\n      <th>4</th>\n      <td>1600170660000</td>\n      <td>3.11</td>\n      <td>3.11</td>\n      <td>3.11</td>\n      <td>3.11</td>\n      <td>100.0</td>\n    </tr>\n  </tbody>\n</table>\n</div>"
     },
     "metadata": {},
     "execution_count": 42
    }
   ],
   "source": [
    "df_ticks.head()"
   ]
  },
  {
   "cell_type": "code",
   "execution_count": 43,
   "metadata": {},
   "outputs": [
    {
     "output_type": "execute_result",
     "data": {
      "text/plain": [
       "86435"
      ]
     },
     "metadata": {},
     "execution_count": 43
    }
   ],
   "source": [
    "len(df_ticks)"
   ]
  },
  {
   "cell_type": "code",
   "execution_count": 44,
   "metadata": {},
   "outputs": [],
   "source": [
    "df_ticks.to_csv('stock_prices__min_test_RIOT.csv',sep = \",\", index=True)"
   ]
  },
  {
   "cell_type": "code",
   "execution_count": 45,
   "metadata": {},
   "outputs": [
    {
     "output_type": "execute_result",
     "data": {
      "text/plain": [
       "125"
      ]
     },
     "metadata": {},
     "execution_count": 45
    }
   ],
   "source": [
    "len(dates)"
   ]
  },
  {
   "cell_type": "code",
   "execution_count": null,
   "metadata": {},
   "outputs": [],
   "source": []
  }
 ]
}