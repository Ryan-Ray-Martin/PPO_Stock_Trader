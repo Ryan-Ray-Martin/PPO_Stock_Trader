{
 "metadata": {
  "language_info": {
   "codemirror_mode": {
    "name": "ipython",
    "version": 3
   },
   "file_extension": ".py",
   "mimetype": "text/x-python",
   "name": "python",
   "nbconvert_exporter": "python",
   "pygments_lexer": "ipython3",
   "version": "3.7.3-final"
  },
  "orig_nbformat": 2,
  "kernelspec": {
   "name": "python3",
   "display_name": "Python 3.7.3 64-bit ('anaconda3': virtualenv)",
   "metadata": {
    "interpreter": {
     "hash": "78c62bd594015071fc94ec09f8f0c8693d5df646d29fd961f83262230d581249"
    }
   }
  }
 },
 "nbformat": 4,
 "nbformat_minor": 2,
 "cells": [
  {
   "cell_type": "code",
   "execution_count": 1,
   "metadata": {},
   "outputs": [
    {
     "output_type": "stream",
     "name": "stdout",
     "text": [
      "Requirement already satisfied: pandas_market_calendars in /Users/user/anaconda3/lib/python3.7/site-packages (1.6.1)\nRequirement already satisfied: pytz in /Users/user/anaconda3/lib/python3.7/site-packages (from pandas_market_calendars) (2020.4)\nRequirement already satisfied: trading-calendars in /Users/user/anaconda3/lib/python3.7/site-packages (from pandas_market_calendars) (2.1.0)\nRequirement already satisfied: python-dateutil in /Users/user/anaconda3/lib/python3.7/site-packages (from pandas_market_calendars) (2.8.1)\nRequirement already satisfied: pandas>=0.18 in /Users/user/anaconda3/lib/python3.7/site-packages (from pandas_market_calendars) (1.1.4)\nRequirement already satisfied: numpy>=1.15.4 in /Users/user/anaconda3/lib/python3.7/site-packages (from pandas>=0.18->pandas_market_calendars) (1.18.5)\nRequirement already satisfied: six>=1.5 in /Users/user/anaconda3/lib/python3.7/site-packages (from python-dateutil->pandas_market_calendars) (1.15.0)\nRequirement already satisfied: toolz in /Users/user/anaconda3/lib/python3.7/site-packages (from trading-calendars->pandas_market_calendars) (0.9.0)\n"
     ]
    }
   ],
   "source": [
    "import requests\n",
    "import os\n",
    "os.environ[\"MODIN_ENGINE\"] = \"ray\"  # Modin will use Ray\n",
    "import pandas as pd\n",
    "import matplotlib.pyplot as plt\n",
    "!pip install pandas_market_calendars\n",
    "import requests\n",
    "from datetime import datetime as dt\n",
    "import pandas_market_calendars as mcal\n",
    "from datetime import datetime as dt"
   ]
  },
  {
   "cell_type": "code",
   "execution_count": 2,
   "metadata": {},
   "outputs": [],
   "source": [
    "# Create a calendar\n",
    "nyse = mcal.get_calendar('NYSE')"
   ]
  },
  {
   "cell_type": "code",
   "execution_count": 24,
   "metadata": {},
   "outputs": [],
   "source": [
    "timespan = nyse.schedule(start_date='2020-09-15', end_date='2021-03-15')"
   ]
  },
  {
   "cell_type": "code",
   "execution_count": 25,
   "metadata": {},
   "outputs": [
    {
     "output_type": "execute_result",
     "data": {
      "text/plain": [
       "                         market_open              market_close\n",
       "2020-09-15 2020-09-15 13:30:00+00:00 2020-09-15 20:00:00+00:00\n",
       "2020-09-16 2020-09-16 13:30:00+00:00 2020-09-16 20:00:00+00:00\n",
       "2020-09-17 2020-09-17 13:30:00+00:00 2020-09-17 20:00:00+00:00\n",
       "2020-09-18 2020-09-18 13:30:00+00:00 2020-09-18 20:00:00+00:00\n",
       "2020-09-21 2020-09-21 13:30:00+00:00 2020-09-21 20:00:00+00:00"
      ],
      "text/html": "<div>\n<style scoped>\n    .dataframe tbody tr th:only-of-type {\n        vertical-align: middle;\n    }\n\n    .dataframe tbody tr th {\n        vertical-align: top;\n    }\n\n    .dataframe thead th {\n        text-align: right;\n    }\n</style>\n<table border=\"1\" class=\"dataframe\">\n  <thead>\n    <tr style=\"text-align: right;\">\n      <th></th>\n      <th>market_open</th>\n      <th>market_close</th>\n    </tr>\n  </thead>\n  <tbody>\n    <tr>\n      <th>2020-09-15</th>\n      <td>2020-09-15 13:30:00+00:00</td>\n      <td>2020-09-15 20:00:00+00:00</td>\n    </tr>\n    <tr>\n      <th>2020-09-16</th>\n      <td>2020-09-16 13:30:00+00:00</td>\n      <td>2020-09-16 20:00:00+00:00</td>\n    </tr>\n    <tr>\n      <th>2020-09-17</th>\n      <td>2020-09-17 13:30:00+00:00</td>\n      <td>2020-09-17 20:00:00+00:00</td>\n    </tr>\n    <tr>\n      <th>2020-09-18</th>\n      <td>2020-09-18 13:30:00+00:00</td>\n      <td>2020-09-18 20:00:00+00:00</td>\n    </tr>\n    <tr>\n      <th>2020-09-21</th>\n      <td>2020-09-21 13:30:00+00:00</td>\n      <td>2020-09-21 20:00:00+00:00</td>\n    </tr>\n  </tbody>\n</table>\n</div>"
     },
     "metadata": {},
     "execution_count": 25
    }
   ],
   "source": [
    "timespan.head()"
   ]
  },
  {
   "cell_type": "code",
   "execution_count": 26,
   "metadata": {},
   "outputs": [],
   "source": [
    "times = list(timespan.index.values)"
   ]
  },
  {
   "cell_type": "code",
   "execution_count": 27,
   "metadata": {},
   "outputs": [],
   "source": [
    "dates = []\n",
    "for date in range(len(times)):\n",
    "    ts = pd.to_datetime(str(times[date]))\n",
    "    d = ts.strftime('%Y-%m-%d')\n",
    "    dates.append(d)"
   ]
  },
  {
   "cell_type": "code",
   "execution_count": 28,
   "metadata": {},
   "outputs": [
    {
     "output_type": "execute_result",
     "data": {
      "text/plain": [
       "['2020-09-15',\n",
       " '2020-09-16',\n",
       " '2020-09-17',\n",
       " '2020-09-18',\n",
       " '2020-09-21',\n",
       " '2020-09-22',\n",
       " '2020-09-23',\n",
       " '2020-09-24',\n",
       " '2020-09-25',\n",
       " '2020-09-28',\n",
       " '2020-09-29',\n",
       " '2020-09-30',\n",
       " '2020-10-01',\n",
       " '2020-10-02',\n",
       " '2020-10-05',\n",
       " '2020-10-06',\n",
       " '2020-10-07',\n",
       " '2020-10-08',\n",
       " '2020-10-09',\n",
       " '2020-10-12',\n",
       " '2020-10-13',\n",
       " '2020-10-14',\n",
       " '2020-10-15',\n",
       " '2020-10-16',\n",
       " '2020-10-19',\n",
       " '2020-10-20',\n",
       " '2020-10-21',\n",
       " '2020-10-22',\n",
       " '2020-10-23',\n",
       " '2020-10-26',\n",
       " '2020-10-27',\n",
       " '2020-10-28',\n",
       " '2020-10-29',\n",
       " '2020-10-30',\n",
       " '2020-11-02',\n",
       " '2020-11-03',\n",
       " '2020-11-04',\n",
       " '2020-11-05',\n",
       " '2020-11-06',\n",
       " '2020-11-09',\n",
       " '2020-11-10',\n",
       " '2020-11-11',\n",
       " '2020-11-12',\n",
       " '2020-11-13',\n",
       " '2020-11-16',\n",
       " '2020-11-17',\n",
       " '2020-11-18',\n",
       " '2020-11-19',\n",
       " '2020-11-20',\n",
       " '2020-11-23',\n",
       " '2020-11-24',\n",
       " '2020-11-25',\n",
       " '2020-11-27',\n",
       " '2020-11-30',\n",
       " '2020-12-01',\n",
       " '2020-12-02',\n",
       " '2020-12-03',\n",
       " '2020-12-04',\n",
       " '2020-12-07',\n",
       " '2020-12-08',\n",
       " '2020-12-09',\n",
       " '2020-12-10',\n",
       " '2020-12-11',\n",
       " '2020-12-14',\n",
       " '2020-12-15',\n",
       " '2020-12-16',\n",
       " '2020-12-17',\n",
       " '2020-12-18',\n",
       " '2020-12-21',\n",
       " '2020-12-22',\n",
       " '2020-12-23',\n",
       " '2020-12-24',\n",
       " '2020-12-28',\n",
       " '2020-12-29',\n",
       " '2020-12-30',\n",
       " '2020-12-31',\n",
       " '2021-01-04',\n",
       " '2021-01-05',\n",
       " '2021-01-06',\n",
       " '2021-01-07',\n",
       " '2021-01-08',\n",
       " '2021-01-11',\n",
       " '2021-01-12',\n",
       " '2021-01-13',\n",
       " '2021-01-14',\n",
       " '2021-01-15',\n",
       " '2021-01-19',\n",
       " '2021-01-20',\n",
       " '2021-01-21',\n",
       " '2021-01-22',\n",
       " '2021-01-25',\n",
       " '2021-01-26',\n",
       " '2021-01-27',\n",
       " '2021-01-28',\n",
       " '2021-01-29',\n",
       " '2021-02-01',\n",
       " '2021-02-02',\n",
       " '2021-02-03',\n",
       " '2021-02-04',\n",
       " '2021-02-05',\n",
       " '2021-02-08',\n",
       " '2021-02-09',\n",
       " '2021-02-10',\n",
       " '2021-02-11',\n",
       " '2021-02-12',\n",
       " '2021-02-16',\n",
       " '2021-02-17',\n",
       " '2021-02-18',\n",
       " '2021-02-19',\n",
       " '2021-02-22',\n",
       " '2021-02-23',\n",
       " '2021-02-24',\n",
       " '2021-02-25',\n",
       " '2021-02-26',\n",
       " '2021-03-01',\n",
       " '2021-03-02',\n",
       " '2021-03-03',\n",
       " '2021-03-04',\n",
       " '2021-03-05',\n",
       " '2021-03-08',\n",
       " '2021-03-09',\n",
       " '2021-03-10',\n",
       " '2021-03-11',\n",
       " '2021-03-12',\n",
       " '2021-03-15']"
      ]
     },
     "metadata": {},
     "execution_count": 28
    }
   ],
   "source": [
    "dates"
   ]
  },
  {
   "cell_type": "code",
   "execution_count": 8,
   "metadata": {},
   "outputs": [],
   "source": [
    "ticker = 'NVDA'\n",
    "range_agg = '/range/1/minute/'\n",
    "unadjusted = 'unadjusted=true'\n",
    "sort = '&sort=asc'\n",
    "limit = '&limit=50000'\n",
    "POLYGON_URL = 'https://api.polygon.io/v2/aggs/ticker/'"
   ]
  },
  {
   "cell_type": "code",
   "execution_count": 9,
   "metadata": {
    "tags": []
   },
   "outputs": [],
   "source": [
    "import data_config\n",
    "datetime = []\n",
    "open_price = []\n",
    "high_price = []\n",
    "low_price = []\n",
    "close_price = []\n",
    "volume = []\n",
    "for date in dates:\n",
    "    polygon = POLYGON_URL + ticker + range_agg + date + '/' + date + '?' + unadjusted + sort + limit + data_config.POLYGON_API\n",
    "    r_polygon = requests.get(polygon)\n",
    "    polygon_response = r_polygon.json()\n",
    "    for aggs in range(len(polygon_response['results'])):\n",
    "        datetime.append(polygon_response['results'][aggs]['t'])\n",
    "        open_price.append(polygon_response['results'][aggs]['o'])\n",
    "        high_price.append(polygon_response['results'][aggs]['h'])\n",
    "        low_price.append(polygon_response['results'][aggs]['l'])\n",
    "        close_price.append(polygon_response['results'][aggs]['c'])\n",
    "        volume.append(polygon_response['results'][aggs]['v'])"
   ]
  },
  {
   "cell_type": "code",
   "execution_count": 10,
   "metadata": {},
   "outputs": [],
   "source": [
    "df_ticks = pd.DataFrame(list(zip(datetime,open_price,high_price,low_price, close_price,volume)),\n",
    "columns =['datetime', 'open', 'high', 'low', 'close', 'volume'])"
   ]
  },
  {
   "cell_type": "code",
   "execution_count": 11,
   "metadata": {},
   "outputs": [
    {
     "output_type": "execute_result",
     "data": {
      "text/plain": [
       "        datetime    open    high     low   close  volume\n",
       "0  1600156800000  519.00  520.00  519.00  520.00    1379\n",
       "1  1600156860000  521.00  521.00  521.00  521.00     643\n",
       "2  1600157400000  520.93  520.93  520.93  520.93     206\n",
       "3  1600157700000  520.25  520.25  520.25  520.25     346\n",
       "4  1600157880000  520.00  520.00  520.00  520.00     231"
      ],
      "text/html": "<div>\n<style scoped>\n    .dataframe tbody tr th:only-of-type {\n        vertical-align: middle;\n    }\n\n    .dataframe tbody tr th {\n        vertical-align: top;\n    }\n\n    .dataframe thead th {\n        text-align: right;\n    }\n</style>\n<table border=\"1\" class=\"dataframe\">\n  <thead>\n    <tr style=\"text-align: right;\">\n      <th></th>\n      <th>datetime</th>\n      <th>open</th>\n      <th>high</th>\n      <th>low</th>\n      <th>close</th>\n      <th>volume</th>\n    </tr>\n  </thead>\n  <tbody>\n    <tr>\n      <th>0</th>\n      <td>1600156800000</td>\n      <td>519.00</td>\n      <td>520.00</td>\n      <td>519.00</td>\n      <td>520.00</td>\n      <td>1379</td>\n    </tr>\n    <tr>\n      <th>1</th>\n      <td>1600156860000</td>\n      <td>521.00</td>\n      <td>521.00</td>\n      <td>521.00</td>\n      <td>521.00</td>\n      <td>643</td>\n    </tr>\n    <tr>\n      <th>2</th>\n      <td>1600157400000</td>\n      <td>520.93</td>\n      <td>520.93</td>\n      <td>520.93</td>\n      <td>520.93</td>\n      <td>206</td>\n    </tr>\n    <tr>\n      <th>3</th>\n      <td>1600157700000</td>\n      <td>520.25</td>\n      <td>520.25</td>\n      <td>520.25</td>\n      <td>520.25</td>\n      <td>346</td>\n    </tr>\n    <tr>\n      <th>4</th>\n      <td>1600157880000</td>\n      <td>520.00</td>\n      <td>520.00</td>\n      <td>520.00</td>\n      <td>520.00</td>\n      <td>231</td>\n    </tr>\n  </tbody>\n</table>\n</div>"
     },
     "metadata": {},
     "execution_count": 11
    }
   ],
   "source": [
    "df_ticks.head()"
   ]
  },
  {
   "cell_type": "code",
   "execution_count": 12,
   "metadata": {},
   "outputs": [
    {
     "output_type": "execute_result",
     "data": {
      "text/plain": [
       "68637"
      ]
     },
     "metadata": {},
     "execution_count": 12
    }
   ],
   "source": [
    "len(df_ticks)"
   ]
  },
  {
   "cell_type": "code",
   "execution_count": 13,
   "metadata": {},
   "outputs": [],
   "source": [
    "df_ticks.to_csv('stock_prices__min_test_NVDA.csv',sep = \",\", index=True)"
   ]
  },
  {
   "cell_type": "code",
   "execution_count": 14,
   "metadata": {},
   "outputs": [
    {
     "output_type": "execute_result",
     "data": {
      "text/plain": [
       "125"
      ]
     },
     "metadata": {},
     "execution_count": 14
    }
   ],
   "source": [
    "len(dates)"
   ]
  },
  {
   "cell_type": "code",
   "execution_count": 42,
   "metadata": {},
   "outputs": [
    {
     "output_type": "execute_result",
     "data": {
      "text/plain": [
       "'https://api.polygon.io/v2/aggs/ticker/X:BTCUSD/range/1/minute/2020-10-14/2020-10-14?unadjusted=true&sort=asc&limit=50000&apiKey=x6XqEaDjOWJXwVQRyBQ5kMEi8KlCYZqo'"
      ]
     },
     "metadata": {},
     "execution_count": 42
    }
   ],
   "source": [
    "ticker = 'X:DOGEUSD'\n",
    "range_agg = '/range/1/minute/'\n",
    "unadjusted = 'unadjusted=true'\n",
    "sort = '&sort=asc'\n",
    "limit = '&limit=50000'\n",
    "POLYGON_URL = 'https://api.polygon.io/v2/aggs/ticker/'\n",
    "\n",
    "\"\"\"https://api.polygon.io/v2/aggs/ticker/X:BTCUSD/range/1/minute/2020-10-14/2020-10-14?unadjusted=true&sort=asc&limit=50000&apiKey=x6XqEaDjOWJXwVQRyBQ5kMEi8KlCYZqo\"\"\""
   ]
  },
  {
   "cell_type": "code",
   "execution_count": 43,
   "metadata": {},
   "outputs": [],
   "source": [
    "import data_config\n",
    "datetime = []\n",
    "open_price = []\n",
    "high_price = []\n",
    "low_price = []\n",
    "close_price = []\n",
    "volume = []\n",
    "for date in dates:\n",
    "    polygon = POLYGON_URL + ticker + range_agg + date + '/' + date + '?' + unadjusted + sort + limit + data_config.POLYGON_API\n",
    "    r_polygon = requests.get(polygon)\n",
    "    polygon_response = r_polygon.json()\n",
    "    for aggs in range(len(polygon_response['results'])):\n",
    "        datetime.append(polygon_response['results'][aggs]['t'])\n",
    "        open_price.append(polygon_response['results'][aggs]['o'])\n",
    "        high_price.append(polygon_response['results'][aggs]['h'])\n",
    "        low_price.append(polygon_response['results'][aggs]['l'])\n",
    "        close_price.append(polygon_response['results'][aggs]['c'])\n",
    "        volume.append(polygon_response['results'][aggs]['v'])"
   ]
  },
  {
   "cell_type": "code",
   "execution_count": 44,
   "metadata": {},
   "outputs": [],
   "source": [
    "df_ticks = pd.DataFrame(list(zip(datetime,open_price,high_price,low_price, close_price,volume)),\n",
    "columns =['datetime', 'open', 'high', 'low', 'close', 'volume'])"
   ]
  },
  {
   "cell_type": "code",
   "execution_count": 45,
   "metadata": {},
   "outputs": [
    {
     "output_type": "execute_result",
     "data": {
      "text/plain": [
       "        datetime      open      high       low     close   volume\n",
       "0  1600128060000  0.002795  0.002801  0.002786  0.002786    120.0\n",
       "1  1600128120000  0.002805  0.002805  0.002799  0.002799     50.0\n",
       "2  1600128180000  0.002800  0.002804  0.002797  0.002800   6330.0\n",
       "3  1600128240000  0.002798  0.002806  0.002798  0.002802   8690.0\n",
       "4  1600128300000  0.002799  0.002804  0.002798  0.002802  23300.0"
      ],
      "text/html": "<div>\n<style scoped>\n    .dataframe tbody tr th:only-of-type {\n        vertical-align: middle;\n    }\n\n    .dataframe tbody tr th {\n        vertical-align: top;\n    }\n\n    .dataframe thead th {\n        text-align: right;\n    }\n</style>\n<table border=\"1\" class=\"dataframe\">\n  <thead>\n    <tr style=\"text-align: right;\">\n      <th></th>\n      <th>datetime</th>\n      <th>open</th>\n      <th>high</th>\n      <th>low</th>\n      <th>close</th>\n      <th>volume</th>\n    </tr>\n  </thead>\n  <tbody>\n    <tr>\n      <th>0</th>\n      <td>1600128060000</td>\n      <td>0.002795</td>\n      <td>0.002801</td>\n      <td>0.002786</td>\n      <td>0.002786</td>\n      <td>120.0</td>\n    </tr>\n    <tr>\n      <th>1</th>\n      <td>1600128120000</td>\n      <td>0.002805</td>\n      <td>0.002805</td>\n      <td>0.002799</td>\n      <td>0.002799</td>\n      <td>50.0</td>\n    </tr>\n    <tr>\n      <th>2</th>\n      <td>1600128180000</td>\n      <td>0.002800</td>\n      <td>0.002804</td>\n      <td>0.002797</td>\n      <td>0.002800</td>\n      <td>6330.0</td>\n    </tr>\n    <tr>\n      <th>3</th>\n      <td>1600128240000</td>\n      <td>0.002798</td>\n      <td>0.002806</td>\n      <td>0.002798</td>\n      <td>0.002802</td>\n      <td>8690.0</td>\n    </tr>\n    <tr>\n      <th>4</th>\n      <td>1600128300000</td>\n      <td>0.002799</td>\n      <td>0.002804</td>\n      <td>0.002798</td>\n      <td>0.002802</td>\n      <td>23300.0</td>\n    </tr>\n  </tbody>\n</table>\n</div>"
     },
     "metadata": {},
     "execution_count": 45
    }
   ],
   "source": [
    "df_ticks.head()"
   ]
  },
  {
   "cell_type": "code",
   "execution_count": 46,
   "metadata": {},
   "outputs": [
    {
     "output_type": "execute_result",
     "data": {
      "text/plain": [
       "144063"
      ]
     },
     "metadata": {},
     "execution_count": 46
    }
   ],
   "source": [
    "len(df_ticks)"
   ]
  },
  {
   "cell_type": "code",
   "execution_count": 47,
   "metadata": {},
   "outputs": [],
   "source": [
    "df_ticks.to_csv('cryto_prices__min_test_DOGECOIN.csv',sep = \",\", index=True)"
   ]
  },
  {
   "cell_type": "code",
   "execution_count": 48,
   "metadata": {},
   "outputs": [
    {
     "output_type": "execute_result",
     "data": {
      "text/plain": [
       "125"
      ]
     },
     "metadata": {},
     "execution_count": 48
    }
   ],
   "source": [
    "len(dates)"
   ]
  },
  {
   "cell_type": "code",
   "execution_count": null,
   "metadata": {},
   "outputs": [],
   "source": []
  }
 ]
}